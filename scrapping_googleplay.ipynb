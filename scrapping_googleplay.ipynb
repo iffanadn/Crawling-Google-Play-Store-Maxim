{
  "nbformat": 4,
  "nbformat_minor": 0,
  "metadata": {
    "colab": {
      "provenance": []
    },
    "kernelspec": {
      "name": "python3",
      "display_name": "Python 3"
    },
    "language_info": {
      "name": "python"
    }
  },
  "cells": [
    {
      "cell_type": "code",
      "execution_count": null,
      "metadata": {
        "colab": {
          "base_uri": "https://localhost:8080/"
        },
        "id": "j0TnVM3S0BmO",
        "outputId": "bb790164-e705-49f6-b024-1db88b6219fb"
      },
      "outputs": [
        {
          "output_type": "stream",
          "name": "stdout",
          "text": [
            "Looking in indexes: https://pypi.org/simple, https://us-python.pkg.dev/colab-wheels/public/simple/\n",
            "Requirement already satisfied: google_play_scraper in /usr/local/lib/python3.9/dist-packages (1.2.3)\n"
          ]
        },
        {
          "output_type": "stream",
          "name": "stderr",
          "text": [
            "IOPub data rate exceeded.\n",
            "The notebook server will temporarily stop sending output\n",
            "to the client in order to avoid crashing it.\n",
            "To change this limit, set the config variable\n",
            "`--NotebookApp.iopub_data_rate_limit`.\n",
            "\n",
            "Current values:\n",
            "NotebookApp.iopub_data_rate_limit=1000000.0 (bytes/sec)\n",
            "NotebookApp.rate_limit_window=3.0 (secs)\n",
            "\n"
          ]
        }
      ],
      "source": [
        "!pip install google_play_scraper\n",
        "\n",
        "# Scrape All available reviews\n",
        "# untuk mengambil semua review\n",
        "from google_play_scraper import Sort, reviews_all\n",
        "import pandas as pd\n",
        "\n",
        "scrapreview = reviews_all(\n",
        "    'com.taxsee.taxsee',  # ID aplikasi bisa cek di https://play.google.com/\n",
        "    lang='id',  # defaults to ‘en’\n",
        "    country='id',  # defaults to ‘us’\n",
        "    sort=Sort.NEWEST,  # defaults to Sort.MOST_RELEVANT\n",
        "    filter_score_with=2  # defaults to None (means all score)\n",
        "\n",
        ")\n",
        "\n",
        "print(scrapreview)\n",
        "app_reviews_df = pd.DataFrame(scrapreview)\n",
        "app_reviews_df.to_csv('dataset_gplay3.csv', index=None, header=True)"
      ]
    },
    {
      "cell_type": "code",
      "source": [
        "#SCRAPPING DATASET YANG RELEVAN\n",
        "\n",
        "#Scrape desired number of reviews\n",
        "#Run kode ini jika ingin scrape data dengan jumlah tertentu. Ganti (misal, ingin scrape sejumlah 1000, maka ganti kode , count = 1000 )\n",
        "!pip install google_play_scraper\n",
        "\n",
        "from google_play_scraper import Sort, reviews\n",
        "import pandas as pd\n",
        "\n",
        "result, continuation_token = reviews(\n",
        "    'com.taxsee.taxsee',\n",
        "    lang='id', # defaults to 'en'\n",
        "    country='id', # defaults to 'us'\n",
        "    sort=Sort.MOST_RELEVANT, # defaults to Sort.MOST_RELEVANT you can use Sort.NEWEST to get newst reviews\n",
        "    count=50000, # defaults to 100\n",
        "    filter_score_with=None # defaults to None(means all score) Use 1 or 2 or 3 or 4 or 5 to select certain score\n",
        ")\n",
        "\n",
        "print(result)\n",
        "app_reviews_df = pd.DataFrame(result)\n",
        "app_reviews_df.to_csv('dataset_gplayID.csv', index=None, header=True)"
      ],
      "metadata": {
        "colab": {
          "base_uri": "https://localhost:8080/"
        },
        "id": "nGmByJ0QhYi5",
        "outputId": "d1c3856f-c57c-4513-e085-c09679d363e4"
      },
      "execution_count": null,
      "outputs": [
        {
          "output_type": "stream",
          "name": "stdout",
          "text": [
            "Looking in indexes: https://pypi.org/simple, https://us-python.pkg.dev/colab-wheels/public/simple/\n",
            "Collecting google_play_scraper\n",
            "  Downloading google_play_scraper-1.2.4-py3-none-any.whl (28 kB)\n",
            "Installing collected packages: google_play_scraper\n",
            "Successfully installed google_play_scraper-1.2.4\n"
          ]
        },
        {
          "output_type": "stream",
          "name": "stderr",
          "text": [
            "IOPub data rate exceeded.\n",
            "The notebook server will temporarily stop sending output\n",
            "to the client in order to avoid crashing it.\n",
            "To change this limit, set the config variable\n",
            "`--NotebookApp.iopub_data_rate_limit`.\n",
            "\n",
            "Current values:\n",
            "NotebookApp.iopub_data_rate_limit=1000000.0 (bytes/sec)\n",
            "NotebookApp.rate_limit_window=3.0 (secs)\n",
            "\n"
          ]
        }
      ]
    },
    {
      "cell_type": "code",
      "source": [
        "#scrapping DATASE TERBARU\n",
        "!pip install google_play_scraper\n",
        "\n",
        "from google_play_scraper import Sort, reviews\n",
        "import pandas as pd\n",
        "\n",
        "result, continuation_token = reviews(\n",
        "    'com.taxsee.taxsee',\n",
        "    lang='id', # defaults to 'en'\n",
        "    country='id', # defaults to 'us'\n",
        "    sort=Sort.NEWEST, # defaults to Sort.MOST_RELEVANT you can use Sort.NEWEST to get newst reviews\n",
        "    count=50000, # defaults to 100\n",
        "    filter_score_with=None # defaults to None(means all score) Use 1 or 2 or 3 or 4 or 5 to select certain score\n",
        ")\n",
        "\n",
        "print(result)\n",
        "app_reviews_df = pd.DataFrame(result)\n",
        "app_reviews_df.to_csv('dataset_gplayID.csv', index=None, header=True)"
      ],
      "metadata": {
        "colab": {
          "base_uri": "https://localhost:8080/"
        },
        "id": "xnKH5dKdZH57",
        "outputId": "d003874b-ed38-4992-98f2-5999ceee6be0"
      },
      "execution_count": null,
      "outputs": [
        {
          "output_type": "stream",
          "name": "stdout",
          "text": [
            "Looking in indexes: https://pypi.org/simple, https://us-python.pkg.dev/colab-wheels/public/simple/\n",
            "Collecting google_play_scraper\n",
            "  Downloading google_play_scraper-1.2.4-py3-none-any.whl (28 kB)\n",
            "Installing collected packages: google_play_scraper\n",
            "Successfully installed google_play_scraper-1.2.4\n"
          ]
        },
        {
          "output_type": "stream",
          "name": "stderr",
          "text": [
            "IOPub data rate exceeded.\n",
            "The notebook server will temporarily stop sending output\n",
            "to the client in order to avoid crashing it.\n",
            "To change this limit, set the config variable\n",
            "`--NotebookApp.iopub_data_rate_limit`.\n",
            "\n",
            "Current values:\n",
            "NotebookApp.iopub_data_rate_limit=1000000.0 (bytes/sec)\n",
            "NotebookApp.rate_limit_window=3.0 (secs)\n",
            "\n"
          ]
        }
      ]
    },
    {
      "cell_type": "code",
      "source": [],
      "metadata": {
        "id": "wiBqCg2eZpJr"
      },
      "execution_count": null,
      "outputs": []
    }
  ]
}